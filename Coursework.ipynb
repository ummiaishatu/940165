{
 "cells": [
  {
   "cell_type": "markdown",
   "metadata": {},
   "source": [
    "## Coursework 1: Object Recognition\n",
    "## Student-name: Ummi Aishatu Ibrahim \n",
    "## student-number: 940165"
   ]
  },
  {
   "cell_type": "code",
   "execution_count": 39,
   "metadata": {},
   "outputs": [],
   "source": [
    "## importing the necessary libraries for the project \n",
    "import numpy as ny\n",
    "import matplotlib.pyplot as mat\n",
    "import tensorflow as tensor\n",
    "from tensorflow.keras import layers, datasets, models\n",
    "from sklearn.metrics import confusion_matrix\n",
    "from sklearn.model_selection import train_test_split"
   ]
  },
  {
   "cell_type": "code",
   "execution_count": 40,
   "metadata": {},
   "outputs": [
    {
     "name": "stdout",
     "output_type": "stream",
     "text": [
      "(10000, 32, 32, 3)\n",
      "(10000, 1)\n",
      "(1000, 32, 32, 3)\n",
      "(1000, 1)\n"
     ]
    }
   ],
   "source": [
    "## loading in the necessary datasets using numpy \n",
    "## changed the pattern of the image input to work with CNN algorithm better \n",
    "## and also printing the shape of the images to confirm whether the transpose function worked\n",
    "trainImage = ny.load('trnImage.npy')\n",
    "trainImage = ny.transpose(trainImage, [3,0,1,2])\n",
    "trainLabel = ny.load('trnLabel.npy')\n",
    "print(trainImage.shape)\n",
    "print(trainLabel.shape)\n",
    "\n",
    "testImage = ny.load('tstImage.npy')\n",
    "testImage = ny.transpose(testImage, [3,0,1,2])\n",
    "testLabel = ny.load('tstLabel.npy')\n",
    "print(testImage.shape)\n",
    "print(testLabel.shape)"
   ]
  },
  {
   "cell_type": "code",
   "execution_count": 41,
   "metadata": {},
   "outputs": [],
   "source": [
    "## creating a dataset for eaxh training and testing set.\n",
    "trainDataset = tensor.data.Dataset.from_tensor_slices((trainImage, trainLabel))\n",
    "testDataset = tensor.data.Dataset.from_tensor_slices((testImage, testLabel))"
   ]
  },
  {
   "cell_type": "code",
   "execution_count": 42,
   "metadata": {},
   "outputs": [],
   "source": [
    "# splitting the training set to create a validation value for shuffling the data\n",
    "image, imageValidation, label, labelValidation = train_test_split(trainImage, trainLabel, test_size = 0.2)\n",
    "#trainImage /= 255\n",
    "#testImage /= 255"
   ]
  },
  {
   "cell_type": "code",
   "execution_count": 49,
   "metadata": {},
   "outputs": [],
   "source": [
    "## the start of the CNN algorithm for the obejct recognition\n",
    "## here i defined model to the Sequential model \n",
    "## A Sequential model is appropriate for a plain stack of layers where each layer has exactly \n",
    "## one input tensor and one output tensor.\n",
    "## the feature extraction method is the Convo2D, MaxPooling2D, flatten and Dense functions\n",
    "## here i am starting to train my data. \n",
    "model = models.Sequential()\n",
    "model.add(layers.Conv2D(32,(3,3), activation = 'relu', input_shape = (32,32,3)))\n",
    "model.add(layers.MaxPooling2D(pool_size = (2,2)))\n",
    "model.add(layers.Flatten())\n",
    "model.add(layers.Dense(512, activation = 'relu'))\n",
    "model.add(layers.Dense(10))"
   ]
  },
  {
   "cell_type": "code",
   "execution_count": 50,
   "metadata": {},
   "outputs": [
    {
     "name": "stdout",
     "output_type": "stream",
     "text": [
      "Model: \"sequential_5\"\n",
      "_________________________________________________________________\n",
      "Layer (type)                 Output Shape              Param #   \n",
      "=================================================================\n",
      "conv2d_6 (Conv2D)            (None, 30, 30, 32)        896       \n",
      "_________________________________________________________________\n",
      "max_pooling2d_6 (MaxPooling2 (None, 15, 15, 32)        0         \n",
      "_________________________________________________________________\n",
      "flatten_5 (Flatten)          (None, 7200)              0         \n",
      "_________________________________________________________________\n",
      "dense_10 (Dense)             (None, 512)               3686912   \n",
      "_________________________________________________________________\n",
      "dense_11 (Dense)             (None, 10)                5130      \n",
      "=================================================================\n",
      "Total params: 3,692,938\n",
      "Trainable params: 3,692,938\n",
      "Non-trainable params: 0\n",
      "_________________________________________________________________\n"
     ]
    }
   ],
   "source": [
    "## it summarizes all the CNN functions of the training data set.\n",
    "model.summary()"
   ]
  },
  {
   "cell_type": "code",
   "execution_count": 51,
   "metadata": {},
   "outputs": [
    {
     "name": "stdout",
     "output_type": "stream",
     "text": [
      "Epoch 1/10\n",
      "313/313 [==============================] - 13s 40ms/step - loss: 1.7068 - accuracy: 0.3895 - val_loss: 1.5407 - val_accuracy: 0.4600\n",
      "Epoch 2/10\n",
      "313/313 [==============================] - 19s 61ms/step - loss: 1.3434 - accuracy: 0.5273 - val_loss: 1.4154 - val_accuracy: 0.5050\n",
      "Epoch 3/10\n",
      "313/313 [==============================] - 13s 43ms/step - loss: 1.1779 - accuracy: 0.5862 - val_loss: 1.3876 - val_accuracy: 0.5200\n",
      "Epoch 4/10\n",
      "313/313 [==============================] - 13s 41ms/step - loss: 1.0377 - accuracy: 0.6344 - val_loss: 1.3481 - val_accuracy: 0.5290\n",
      "Epoch 5/10\n",
      "313/313 [==============================] - 13s 41ms/step - loss: 0.9201 - accuracy: 0.6780 - val_loss: 1.3497 - val_accuracy: 0.5630\n",
      "Epoch 6/10\n",
      "313/313 [==============================] - 13s 42ms/step - loss: 0.7736 - accuracy: 0.7257 - val_loss: 1.3986 - val_accuracy: 0.5430\n",
      "Epoch 7/10\n",
      "313/313 [==============================] - 13s 43ms/step - loss: 0.6377 - accuracy: 0.7814 - val_loss: 1.4106 - val_accuracy: 0.5410\n",
      "Epoch 8/10\n",
      "313/313 [==============================] - 13s 42ms/step - loss: 0.4980 - accuracy: 0.8325 - val_loss: 1.4313 - val_accuracy: 0.5630\n",
      "Epoch 9/10\n",
      "313/313 [==============================] - 14s 43ms/step - loss: 0.3612 - accuracy: 0.8865 - val_loss: 1.5014 - val_accuracy: 0.5720\n",
      "Epoch 10/10\n",
      "313/313 [==============================] - 14s 44ms/step - loss: 0.2594 - accuracy: 0.9257 - val_loss: 1.6239 - val_accuracy: 0.5510\n"
     ]
    }
   ],
   "source": [
    "## the compile methods determines the accuracy and loss of object recognition in the dataset \n",
    "## it also fits the training set and testing set as the validation set so it can print out the epoch for the 10 \n",
    "## CIFAR 10 dataset categories. \n",
    "model.compile(optimizer = 'adam',\n",
    "              loss = tensor.keras.losses.SparseCategoricalCrossentropy(from_logits = True),\n",
    "              metrics = ['accuracy'])\n",
    "history = model.fit(trainImage, trainLabel, epochs = 10, validation_data = (testImage, testLabel))"
   ]
  },
  {
   "cell_type": "code",
   "execution_count": 52,
   "metadata": {},
   "outputs": [
    {
     "data": {
      "image/png": "[encoded data removed]",
      "text/plain": [
       "<Figure size 432x288 with 2 Axes>"
      ]
     },
     "metadata": {
      "needs_background": "light"
     },
     "output_type": "display_data"
    }
   ],
   "source": [
    "## the plot between epoch and the loss of the dataset \n",
    "mat.subplot(211)\n",
    "mat.plot(history.history['loss'], label='loss')\n",
    "mat.plot(history.history['val_loss'], label='validation loss')\n",
    "mat.xlabel('Epochs')\n",
    "mat.ylabel('loss')\n",
    "\n",
    "## the plot between epoch and accuracy of the dataset \n",
    "mat.subplot(212)\n",
    "accuracy = history.history['accuracy']\n",
    "val_accuracy = history.history['val_accuracy']\n",
    "mat.plot(accuracy, label = 'accuracy')\n",
    "mat.plot(val_accuracy, label = 'validation accuracy')\n",
    "mat.xlabel('Epochs')\n",
    "mat.ylabel('accuracy')\n",
    "mat.legend()\n",
    "mat.show()"
   ]
  },
  {
   "cell_type": "code",
   "execution_count": 53,
   "metadata": {},
   "outputs": [
    {
     "name": "stdout",
     "output_type": "stream",
     "text": [
      "32/32 [==============================] - 0s 8ms/step - loss: 1.6239 - accuracy: 0.5510\n"
     ]
    }
   ],
   "source": [
    "## this is the evaluation of the testing set for the dataset\n",
    "## this finalises the whole dataset \n",
    "testLoss, testAccuracy = model.evaluate(testImage, testLabel)"
   ]
  },
  {
   "cell_type": "code",
   "execution_count": 54,
   "metadata": {},
   "outputs": [
    {
     "name": "stdout",
     "output_type": "stream",
     "text": [
      "55.09999990463257\n"
     ]
    }
   ],
   "source": [
    "## printing out the final accuracy for the object recognition \n",
    "print(testAccuracy*100)"
   ]
  },
  {
   "cell_type": "code",
   "execution_count": 55,
   "metadata": {},
   "outputs": [
    {
     "name": "stdout",
     "output_type": "stream",
     "text": [
      "              precision    recall  f1-score   support\n",
      "\n",
      "   airplanes       1.00      0.15      0.26      1000\n",
      "  automobile       0.00      0.00      0.00         0\n",
      "        bird       0.00      0.00      0.00         0\n",
      "         cat       0.00      0.00      0.00         0\n",
      "        deer       0.00      0.00      0.00         0\n",
      "         dog       0.00      0.00      0.00         0\n",
      "        frog       0.00      0.00      0.00         0\n",
      "       horse       0.00      0.00      0.00         0\n",
      "        ship       0.00      0.00      0.00         0\n",
      "       truck       0.00      0.00      0.00         0\n",
      "\n",
      "    accuracy                           0.15      1000\n",
      "   macro avg       0.10      0.02      0.03      1000\n",
      "weighted avg       1.00      0.15      0.26      1000\n",
      "\n",
      "[[151  87  93  75  78 108  83 141  91  93]\n",
      " [  0   0   0   0   0   0   0   0   0   0]\n",
      " [  0   0   0   0   0   0   0   0   0   0]\n",
      " [  0   0   0   0   0   0   0   0   0   0]\n",
      " [  0   0   0   0   0   0   0   0   0   0]\n",
      " [  0   0   0   0   0   0   0   0   0   0]\n",
      " [  0   0   0   0   0   0   0   0   0   0]\n",
      " [  0   0   0   0   0   0   0   0   0   0]\n",
      " [  0   0   0   0   0   0   0   0   0   0]\n",
      " [  0   0   0   0   0   0   0   0   0   0]]\n"
     ]
    }
   ],
   "source": [
    "## here i predicted the testing image for we can produce the confusion matrix and classification report of the dataset\n",
    "## this matrix is an error matrix that allows the perfromance of the object recognition concept.\n",
    "predict = model.predict(testImage)\n",
    "y_predict = ny.argmax(predict, axis=1)\n",
    "target_names = ['airplanes', 'automobile', 'bird','cat','deer','dog','frog','horse','ship','truck']\n",
    "\n",
    "print(classification_report(ny.argmax(testLabel, axis=1), y_predict,target_names=target_names))\n",
    "print(confusion_matrix(ny.argmax(testLabel, axis=1), y_predict))"
   ]
  },
  {
   "cell_type": "code",
   "execution_count": null,
   "metadata": {},
   "outputs": [],
   "source": []
  },
  {
   "cell_type": "code",
   "execution_count": null,
   "metadata": {},
   "outputs": [],
   "source": []
  },
  {
   "cell_type": "code",
   "execution_count": null,
   "metadata": {},
   "outputs": [],
   "source": []
  },
  {
   "cell_type": "code",
   "execution_count": null,
   "metadata": {},
   "outputs": [],
   "source": []
  },
  {
   "cell_type": "code",
   "execution_count": null,
   "metadata": {},
   "outputs": [],
   "source": []
  }
 ],
 "metadata": {
  "kernelspec": {
   "display_name": "Python 3",
   "language": "python",
   "name": "python3"
  },
  "language_info": {
   "codemirror_mode": {
    "name": "ipython",
    "version": 3
   },
   "file_extension": ".py",
   "mimetype": "text/x-python",
   "name": "python",
   "nbconvert_exporter": "python",
   "pygments_lexer": "ipython3",
   "version": "3.8.6"
  }
 },
 "nbformat": 4,
 "nbformat_minor": 4
}
