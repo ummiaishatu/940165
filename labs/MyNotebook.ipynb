{
 "cells": [
  {
   "cell_type": "markdown",
   "metadata": {},
   "source": [
    "## Name: Ummi Aishatu Ibrahim\n",
    "## Date: 28/09/2020\n",
    "## Student Number: 940165"
   ]
  },
  {
   "cell_type": "markdown",
   "metadata": {},
   "source": [
    "# Task 1.1"
   ]
  },
  {
   "cell_type": "code",
   "execution_count": 30,
   "metadata": {},
   "outputs": [
    {
     "name": "stdout",
     "output_type": "stream",
     "text": [
      "695\n"
     ]
    }
   ],
   "source": [
    "\n",
    "#2\n",
    "x = 345\n",
    "output = 2*x + 5\n",
    "print(output)"
   ]
  },
  {
   "cell_type": "code",
   "execution_count": 31,
   "metadata": {},
   "outputs": [
    {
     "name": "stdout",
     "output_type": "stream",
     "text": [
      "Hello World\n"
     ]
    }
   ],
   "source": [
    "#3\n",
    "print('Hello World')"
   ]
  },
  {
   "cell_type": "code",
   "execution_count": 32,
   "metadata": {},
   "outputs": [],
   "source": [
    "#4\n",
    "def f(x,w,b):\n",
    "    result = w*x + b\n",
    "    return result"
   ]
  },
  {
   "cell_type": "code",
   "execution_count": 33,
   "metadata": {},
   "outputs": [
    {
     "name": "stdout",
     "output_type": "stream",
     "text": [
      "695\n"
     ]
    }
   ],
   "source": [
    "print(f(345,2,5))"
   ]
  },
  {
   "cell_type": "markdown",
   "metadata": {},
   "source": [
    "## Task 1.2"
   ]
  },
  {
   "cell_type": "code",
   "execution_count": 41,
   "metadata": {},
   "outputs": [
    {
     "name": "stdout",
     "output_type": "stream",
     "text": [
      "waleed\n",
      "abudy\n",
      "amira\n",
      "safy\n"
     ]
    }
   ],
   "source": [
    "#1\n",
    "myList = ['safy', 'amira', 'abudy','waleed']\n",
    "for i in reversed(myList):\n",
    "    print(i)\n",
    "    "
   ]
  },
  {
   "cell_type": "code",
   "execution_count": 42,
   "metadata": {},
   "outputs": [],
   "source": [
    "#2\n",
    "def equals100(x):\n",
    "    if x == 100:\n",
    "        print(True)\n",
    "    else:\n",
    "        print(False)"
   ]
  },
  {
   "cell_type": "code",
   "execution_count": 44,
   "metadata": {},
   "outputs": [
    {
     "name": "stdout",
     "output_type": "stream",
     "text": [
      "True\n",
      "None\n"
     ]
    }
   ],
   "source": [
    "print(equals100(100))"
   ]
  },
  {
   "cell_type": "code",
   "execution_count": 45,
   "metadata": {},
   "outputs": [
    {
     "name": "stdout",
     "output_type": "stream",
     "text": [
      "False\n",
      "None\n"
     ]
    }
   ],
   "source": [
    "print(equals100(10))"
   ]
  },
  {
   "cell_type": "code",
   "execution_count": 48,
   "metadata": {},
   "outputs": [],
   "source": [
    "#3\n",
    "myDictionary = {\n",
    "    'data_name' : 'myData',\n",
    "    'data' : '[\"cat\", \"dog\", \"fish\"]',\n",
    "    'labels' : '[2,3,4]'\n",
    "}"
   ]
  },
  {
   "cell_type": "code",
   "execution_count": 49,
   "metadata": {},
   "outputs": [
    {
     "name": "stdout",
     "output_type": "stream",
     "text": [
      "myData\n",
      "[\"cat\", \"dog\", \"fish\"]\n",
      "[2,3,4]\n"
     ]
    }
   ],
   "source": [
    "#4\n",
    "print(myDictionary['data_name'])\n",
    "print(myDictionary['data'])\n",
    "print(myDictionary['labels'])"
   ]
  },
  {
   "cell_type": "markdown",
   "metadata": {},
   "source": [
    "## Task 1.3"
   ]
  },
  {
   "cell_type": "code",
   "execution_count": 71,
   "metadata": {},
   "outputs": [
    {
     "name": "stdout",
     "output_type": "stream",
     "text": [
      "[[16  9  7  6]\n",
      " [24 17 10  6]]\n"
     ]
    }
   ],
   "source": [
    "#1\n",
    "import numpy as np \n",
    "\n",
    "#2\n",
    "X = np.random.randint(5, size = (2,3))\n",
    "Y = np.random.randint(5, size = (3,4))\n",
    "\n",
    "#3\n",
    "# matrix multiplication using dot method \n",
    "# where dot(a,b)[i,j,k,m] = sum(a[i,j,:]*b[k,:,m])\n",
    "Z = X.dot(Y)\n",
    "print(Z)"
   ]
  },
  {
   "cell_type": "code",
   "execution_count": 72,
   "metadata": {},
   "outputs": [
    {
     "name": "stdout",
     "output_type": "stream",
     "text": [
      "[[16  9  7  6]]\n"
     ]
    }
   ],
   "source": [
    "#4\n",
    "print(Z[:1,])"
   ]
  },
  {
   "cell_type": "markdown",
   "metadata": {},
   "source": [
    "## Task 1.4"
   ]
  },
  {
   "cell_type": "code",
   "execution_count": 86,
   "metadata": {},
   "outputs": [
    {
     "name": "stdout",
     "output_type": "stream",
     "text": [
      "(150, 4)\n"
     ]
    },
    {
     "data": {
      "image/png": "[encoded data removed]",
      "text/plain": [
       "<Figure size 432x288 with 1 Axes>"
      ]
     },
     "metadata": {
      "needs_background": "light"
     },
     "output_type": "display_data"
    }
   ],
   "source": [
    "#1\n",
    "import numpy as np\n",
    "import matplotlib.pyplot as mat\n",
    "# load the file \n",
    "iris = np.load('Downloads/Iris_data.npy')\n",
    "# query the shape \n",
    "#2\n",
    "print(iris.shape)\n",
    "#printed (150,4)\n",
    "#3\n",
    "#plot the data selecting 2 feature dimension and using the matplitlib.pyplot's scatter function\n",
    "data = np.random.randn(150,4) ## 2 feature dimension\n",
    "mat.figure()## create a new canvas\n",
    "mat.scatter(data[:,0], data[:,1]) ## plot data as a scatter function\n",
    "#4\n",
    "mat.xlabel('label 1') ## x axis label\n",
    "mat.ylabel('label 2') ## y axis label\n",
    "mat.title('scatter plot of 2D data')\n",
    "\n",
    "mat.show() # display plot to screen\n",
    "# the 2 feature is sepal width and sepal length"
   ]
  },
  {
   "cell_type": "code",
   "execution_count": null,
   "metadata": {},
   "outputs": [],
   "source": []
  },
  {
   "cell_type": "code",
   "execution_count": null,
   "metadata": {},
   "outputs": [],
   "source": []
  },
  {
   "cell_type": "code",
   "execution_count": null,
   "metadata": {},
   "outputs": [],
   "source": []
  },
  {
   "cell_type": "code",
   "execution_count": null,
   "metadata": {},
   "outputs": [],
   "source": []
  },
  {
   "cell_type": "code",
   "execution_count": null,
   "metadata": {},
   "outputs": [],
   "source": []
  }
 ],
 "metadata": {
  "kernelspec": {
   "display_name": "Python 3",
   "language": "python",
   "name": "python3"
  },
  "language_info": {
   "codemirror_mode": {
    "name": "ipython",
    "version": 3
   },
   "file_extension": ".py",
   "mimetype": "text/x-python",
   "name": "python",
   "nbconvert_exporter": "python",
   "pygments_lexer": "ipython3",
   "version": "3.8.5"
  }
 },
 "nbformat": 4,
 "nbformat_minor": 4
}
